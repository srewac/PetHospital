{
 "cells": [
  {
   "cell_type": "code",
   "execution_count": 6,
   "metadata": {
    "collapsed": true
   },
   "outputs": [],
   "source": [
    "from bs4 import BeautifulSoup\n",
    "import urllib.request\n",
    "\n",
    "\n",
    "\n",
    "def getHtml(url):\n",
    "    html = urllib.request.urlopen(url).read()\n",
    "    return html\n",
    "\n",
    "#获取数据\n",
    "def requestDisease(page):\n",
    "    url = \"http://www.zgcwdy.com/index.php?s=/Health/disease/id/\" + str(page)\n",
    "    html = getHtml(url)\n",
    "    return html\n",
    "\n",
    "def diseaseParse(page):\n",
    "    diseases = requestDisease(page)\n",
    "    soup = BeautifulSoup(diseases,'html.parser',from_encoding=\"gb18030\")\n",
    "    div = soup.find_all('div',attrs={'class':'art_con'},limit=1)\n",
    "    divs = soup.find_all('div',attrs={'class':'txt_con'},limit=20)\n",
    "    disease = []\n",
    "    for item in div:\n",
    "        title = find_all(item,'p','u_head')\n",
    "        disease.append(title[0].text)\n",
    "\n",
    "    for item in divs:\n",
    "        a_title = find_all(item, 'div', 'd_tit')\n",
    "        a_con = find_all(item, 'div', 'd_con')\n",
    "        if a_title is not None:\n",
    "            disease.append(a_title[0].text)\n",
    "        if a_title[0].text == \"疾病图片\":\n",
    "            disease.append(\" \")\n",
    "        else:\n",
    "            disease.append(a_con[0].text)\n",
    "    return disease\n",
    "\n",
    "def find_all(item, attr, c):\n",
    "    return item.find_all(attr, attrs={'class': c}, limit=1)"
   ]
  },
  {
   "cell_type": "code",
   "execution_count": 8,
   "metadata": {},
   "outputs": [
    {
     "name": "stdout",
     "output_type": "stream",
     "text": [
      "消化系统>>锁肛\n",
      "疾病描述\n",
      "    锁肛是指肛门被皮肤封闭而无肛门孔的先天性畸形，常伴有肛门括约肌功能障碍。1994年我国曾报道1例后天继发性锁肛。\n",
      "疾病图片\n",
      " \n",
      "症状\n",
      "    先天性缩肛的仔犬出生后数日腹围逐渐增大，表现不安、呕吐、频频努责，努责时肛门周围膨胀，膨胀严重的犬，表现呼吸困难。继发性锁肛的仔犬有排便史，常于20-30日龄左右发现腹部胀满，触诊腹壁紧张，能触及硬粪块。听诊肠音弱，尾根下部皮肤完好，努责时突出，触之有弹性，相当于肛门部位有一道横向的小褶，并附有干粪迹。\n",
      "病因\n",
      "    肛门闭锁属于中位畸形，临床常见。由于原始肛发育障碍，未向内凹入形成肛管。直肠发育基本正常，其盲端在尿道球海绵肌边缘，或阴道下端附近，耻骨直肠肌包绕直肠远端。会阴往往发育不良，呈平坦状，肛区为完整皮肤覆盖。犬出生后因肛门狭窄而排便困难，引起肛门局部组织破裂，由于炎性增生，使肛门孔闭锁后形成一道小褶。\n",
      "治疗方案\n",
      "    早期施以锁肛造孔技术（人造肛门术）效果较好。术后腹部按摩有助于肠内积气和粪便的排出，用0.1%高锰酸钾液缓慢灌肠，全身抗感染治疗。\n",
      "消化系统>>直肠脱垂\n",
      "疾病描述\n",
      "    本症是指后段直肠黏膜层脱落出肛门（脱肛）或全部翻转脱出肛门（直肠脱）。犬不分品种和年龄都可发生本病，但年轻犬更易发生。\n",
      "疾病图片\n",
      " \n",
      "症状\n",
      "    轻度直肠脱：只见于犬在排粪努责时，直肠粘膜由肛门脱出，有时会自动缩回。\n",
      "重度直肠脱：直肠及粘膜完全外翻，呈一柱状从肛门突出。刚脱出时，直肠粘膜呈红色有光泽。随脱出的时间延长，可变成暗红色或黑色，重的可造成溃疡和直肠坏死。\n",
      "病因\n",
      "    常见于胃炎、腹泻、里急后重、难产、前列腺炎、直肠便秘以及代谢产物、异物和裂伤引起的激烈努责，饲喂缺乏蛋白质、水和维生素的多纤维性饲料，严重感染蛔虫、球虫等的青年犬易发。先天性直肠括约肌无力的波士顿小猫犬在发育期，比其他品种犬种易发。\n",
      "治疗方案\n",
      "    对于敏感性的动物可稍应用保定药。用5%明矾水清洗脱出的直肠。然后用手或借助于圆椎体状探条将脱出的直肠送入肛门内。有溃疡和炎症较重的病例，可向直肠内注入少量广谱抗菌素。最后施行烟包缝合，防止直肠重新脱出。\n",
      "在脱出的肠管发生明显坏死的情况下，应施行粘膜下切除术或直肠全切除术治疗。\n",
      "消化系统>>直肠狭窄\n",
      "疾病描述\n",
      "    直肠狭窄是由于瘢痕组织所致的肠腔狭窄。\n",
      "疾病图片\n",
      " \n",
      "症状\n",
      "    通常表现里急后重，排便困难或排出细条状便。肛门指诊可触及狭窄部，并有疼痛反应和出血。\n",
      "病因\n",
      "    胆门囊炎、肛门周围瘘、直脑周罔脓肿及其慢性炎症，以及异物或外科处置等引起直隔壁损伤的瘢痕组织所造成直脑和肛门的永久性狭窄。本病多见于老龄的德国牧羊犬、比哥犬、贵妇犬。\n",
      "治疗方案\n",
      "    对于黏膜瘢痕性的轻度狭窄，可试用扩张棒保守治疗。接近肛门处的狭窄，从会阴部切开，剥离到直肠外壁后，切除狭窄部。深结肠部位的狭窄，从肷部做切口，切除狭窄部，做肠管吻合术。\n"
     ]
    }
   ],
   "source": [
    "with open(\"disease.txt\", \"w\",encoding='utf-8') as f:\n",
    "    for i in range(3,6):#修改范围获取更多数据，初始值最小为3\n",
    "        disease = diseaseParse(i)\n",
    "        for info in disease:\n",
    "            f.write(info)\n",
    "            print(info)\n",
    "            f.write('|')\n",
    "        f.write('\\n')\n",
    "    f.close()"
   ]
  },
  {
   "cell_type": "code",
   "execution_count": null,
   "metadata": {
    "collapsed": true
   },
   "outputs": [],
   "source": [
    ""
   ]
  }
 ],
 "metadata": {
  "kernelspec": {
   "display_name": "Python 3",
   "language": "python",
   "name": "python3"
  },
  "language_info": {
   "codemirror_mode": {
    "name": "ipython",
    "version": 3.0
   },
   "file_extension": ".py",
   "mimetype": "text/x-python",
   "name": "python",
   "nbconvert_exporter": "python",
   "pygments_lexer": "ipython3",
   "version": "3.6.3"
  }
 },
 "nbformat": 4,
 "nbformat_minor": 0
}